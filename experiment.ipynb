{
 "cells": [
  {
   "cell_type": "code",
   "execution_count": 2,
   "metadata": {},
   "outputs": [],
   "source": [
    "%matplotlib inline\n",
    "\n",
    "import numpy as np\n",
    "import matplotlib.pyplot as plt\n",
    "from itertools import compress\n",
    "from numpy.random import normal\n",
    "from soinn.soinn import Soinn"
   ]
  },
  {
   "cell_type": "code",
   "execution_count": 6,
   "metadata": {},
   "outputs": [
    {
     "name": "stdout",
     "output_type": "stream",
     "text": [
      "[0. 1. 2. 3. 4. 5. 6. 7. 8.]\n",
      "[0.  0.1 0.2 0.3 0.4 0.5 0.6 0.7 0.8]\n"
     ]
    }
   ],
   "source": [
    "x1 = np.arange(9.0)\n",
    "print(x1)\n",
    "\n",
    "x2 = 10\n",
    "\n",
    "print( x1 / x2 )"
   ]
  }
 ],
 "metadata": {
  "kernelspec": {
   "display_name": "Python 3.10.4 ('soinn')",
   "language": "python",
   "name": "python3"
  },
  "language_info": {
   "codemirror_mode": {
    "name": "ipython",
    "version": 3
   },
   "file_extension": ".py",
   "mimetype": "text/x-python",
   "name": "python",
   "nbconvert_exporter": "python",
   "pygments_lexer": "ipython3",
   "version": "3.10.4"
  },
  "orig_nbformat": 4,
  "vscode": {
   "interpreter": {
    "hash": "38820c70898c435744e0bee8ff4ac13657ee710a3ab9c7bf1ace648fdff1c15d"
   }
  }
 },
 "nbformat": 4,
 "nbformat_minor": 2
}
